{
 "cells": [
  {
   "cell_type": "code",
   "execution_count": 1,
   "id": "36e250da-e8b0-4817-91b1-3ed5c919567f",
   "metadata": {},
   "outputs": [],
   "source": [
    "from tkinter import *\n",
    "from tkinter import Menu\n",
    "window = Tk()\n",
    "\n",
    "\n",
    "menu = Menu(window)\n",
    "new_item = Menu(menu)\n",
    "new_item = Menu(menu, tearoff=0)\n",
    "new_item.add_command(label='New tab')\n",
    "new_item.add_command(label='New window')\n",
    "new_item.add_command(label='Open')\n",
    "new_item.add_command(label='Save')\n",
    "new_item.add_command(label='Save as')\n",
    "new_item.add_command(label='Save all')\n",
    "new_item.add_separator()\n",
    "new_item.add_command(label='Page setup')\n",
    "new_item.add_command(label='Print')\n",
    "new_item.add_separator()\n",
    "new_item.add_command(label='Close window')\n",
    "new_item.add_command(label='Close tab')\n",
    "new_item.add_command(label='Exit')\n",
    "\n",
    "menu.add_cascade(label='File',menu=new_item)\n",
    "\n",
    "new_item1 = Menu(menu)\n",
    "new_item1 = Menu(menu, tearoff=0)\n",
    "new_item1.add_command(label='Cut')\n",
    "new_item1.add_command(label='copy')\n",
    "new_item1.add_command(label='paste')\n",
    "new_item1.add_command(label='undo')\n",
    "new_item1.add_command(label='delete')\n",
    "\n",
    "menu.add_cascade(label='Edit',menu=new_item1)\n",
    "\n",
    "new_item2 = Menu(menu)\n",
    "new_item2 = Menu(menu, tearoff=0)\n",
    "new_item2.add_command(label='zoom')\n",
    "new_item2.add_command(label='status bar')\n",
    "new_item2.add_command(label='word wrap')\n",
    "\n",
    "menu.add_cascade(label='View',menu=new_item2)\n",
    "\n",
    "window.config(menu=menu)\n",
    "window.mainloop()"
   ]
  },
  {
   "cell_type": "code",
   "execution_count": null,
   "id": "c077b644-fda9-4260-abb4-63404ed6f83e",
   "metadata": {},
   "outputs": [],
   "source": []
  }
 ],
 "metadata": {
  "kernelspec": {
   "display_name": "Python 3 (ipykernel)",
   "language": "python",
   "name": "python3"
  },
  "language_info": {
   "codemirror_mode": {
    "name": "ipython",
    "version": 3
   },
   "file_extension": ".py",
   "mimetype": "text/x-python",
   "name": "python",
   "nbconvert_exporter": "python",
   "pygments_lexer": "ipython3",
   "version": "3.11.7"
  }
 },
 "nbformat": 4,
 "nbformat_minor": 5
}
