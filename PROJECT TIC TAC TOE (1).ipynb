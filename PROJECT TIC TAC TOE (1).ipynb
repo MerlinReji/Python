{
 "cells": [
  {
   "cell_type": "code",
   "execution_count": null,
   "id": "72687532-c603-427d-b427-ce135bb8cfd8",
   "metadata": {},
   "outputs": [],
   "source": [
    "TIC TAC TOE GAME"
   ]
  },
  {
   "cell_type": "code",
   "execution_count": null,
   "id": "9e90d126-a04b-4e08-b16c-4b61d5514831",
   "metadata": {},
   "outputs": [
    {
     "name": "stdout",
     "output_type": "stream",
     "text": [
      "  |   |  \n",
      " _______\n",
      "  |   |  \n",
      " _______\n",
      "  |   |  \n",
      "It's your turn, X. Move to which place?\n"
     ]
    },
    {
     "name": "stdin",
     "output_type": "stream",
     "text": [
      " 7\n"
     ]
    },
    {
     "name": "stdout",
     "output_type": "stream",
     "text": [
      "X |   |  \n",
      " _______\n",
      "  |   |  \n",
      " _______\n",
      "  |   |  \n",
      "It's your turn, O. Move to which place?\n"
     ]
    },
    {
     "name": "stdin",
     "output_type": "stream",
     "text": [
      " 5\n"
     ]
    },
    {
     "name": "stdout",
     "output_type": "stream",
     "text": [
      "X |   |  \n",
      " _______\n",
      "  | O |  \n",
      " _______\n",
      "  |   |  \n",
      "It's your turn, X. Move to which place?\n"
     ]
    },
    {
     "name": "stdin",
     "output_type": "stream",
     "text": [
      " 3\n"
     ]
    },
    {
     "name": "stdout",
     "output_type": "stream",
     "text": [
      "X |   |  \n",
      " _______\n",
      "  | O |  \n",
      " _______\n",
      "  |   | X\n",
      "It's your turn, O. Move to which place?\n"
     ]
    },
    {
     "name": "stdin",
     "output_type": "stream",
     "text": [
      " 2\n"
     ]
    },
    {
     "name": "stdout",
     "output_type": "stream",
     "text": [
      "X |   |  \n",
      " _______\n",
      "  | O |  \n",
      " _______\n",
      "  | O | X\n",
      "It's your turn, X. Move to which place?\n"
     ]
    },
    {
     "name": "stdin",
     "output_type": "stream",
     "text": [
      " 8\n"
     ]
    },
    {
     "name": "stdout",
     "output_type": "stream",
     "text": [
      "X | X |  \n",
      " _______\n",
      "  | O |  \n",
      " _______\n",
      "  | O | X\n",
      "It's your turn, O. Move to which place?\n"
     ]
    },
    {
     "name": "stdin",
     "output_type": "stream",
     "text": [
      " 1\n"
     ]
    },
    {
     "name": "stdout",
     "output_type": "stream",
     "text": [
      "X | X |  \n",
      " _______\n",
      "  | O |  \n",
      " _______\n",
      "O | O | X\n",
      "It's your turn, X. Move to which place?\n"
     ]
    },
    {
     "name": "stdin",
     "output_type": "stream",
     "text": [
      " 9\n"
     ]
    },
    {
     "name": "stdout",
     "output_type": "stream",
     "text": [
      "X | X | X\n",
      " _______\n",
      "  | O |  \n",
      " _______\n",
      "O | O | X\n",
      "\n",
      "Game Over.\n",
      "\n",
      "**** X won. ****\n"
     ]
    },
    {
     "name": "stdin",
     "output_type": "stream",
     "text": [
      "Do you want to play again? (Y/N)  y\n"
     ]
    },
    {
     "name": "stdout",
     "output_type": "stream",
     "text": [
      "  |   |  \n",
      " _______\n",
      "  |   |  \n",
      " _______\n",
      "  |   |  \n",
      "It's your turn, X. Move to which place?\n"
     ]
    },
    {
     "name": "stdin",
     "output_type": "stream",
     "text": [
      " 7\n"
     ]
    },
    {
     "name": "stdout",
     "output_type": "stream",
     "text": [
      "X |   |  \n",
      " _______\n",
      "  |   |  \n",
      " _______\n",
      "  |   |  \n",
      "It's your turn, O. Move to which place?\n"
     ]
    },
    {
     "name": "stdin",
     "output_type": "stream",
     "text": [
      " 5\n"
     ]
    },
    {
     "name": "stdout",
     "output_type": "stream",
     "text": [
      "X |   |  \n",
      " _______\n",
      "  | O |  \n",
      " _______\n",
      "  |   |  \n",
      "It's your turn, X. Move to which place?\n"
     ]
    },
    {
     "name": "stdin",
     "output_type": "stream",
     "text": [
      " 2\n"
     ]
    },
    {
     "name": "stdout",
     "output_type": "stream",
     "text": [
      "X |   |  \n",
      " _______\n",
      "  | O |  \n",
      " _______\n",
      "  | X |  \n",
      "It's your turn, O. Move to which place?\n"
     ]
    },
    {
     "name": "stdin",
     "output_type": "stream",
     "text": [
      " 1\n"
     ]
    },
    {
     "name": "stdout",
     "output_type": "stream",
     "text": [
      "X |   |  \n",
      " _______\n",
      "  | O |  \n",
      " _______\n",
      "O | X |  \n",
      "It's your turn, X. Move to which place?\n"
     ]
    },
    {
     "name": "stdin",
     "output_type": "stream",
     "text": [
      " 9\n"
     ]
    },
    {
     "name": "stdout",
     "output_type": "stream",
     "text": [
      "X |   | X\n",
      " _______\n",
      "  | O |  \n",
      " _______\n",
      "O | X |  \n",
      "It's your turn, O. Move to which place?\n"
     ]
    },
    {
     "name": "stdin",
     "output_type": "stream",
     "text": [
      " 3\n"
     ]
    },
    {
     "name": "stdout",
     "output_type": "stream",
     "text": [
      "X |   | X\n",
      " _______\n",
      "  | O |  \n",
      " _______\n",
      "O | X | O\n",
      "It's your turn, X. Move to which place?\n"
     ]
    },
    {
     "name": "stdin",
     "output_type": "stream",
     "text": [
      " 4\n"
     ]
    },
    {
     "name": "stdout",
     "output_type": "stream",
     "text": [
      "X |   | X\n",
      " _______\n",
      "X | O |  \n",
      " _______\n",
      "O | X | O\n",
      "It's your turn, O. Move to which place?\n"
     ]
    },
    {
     "name": "stdin",
     "output_type": "stream",
     "text": [
      " 8\n"
     ]
    },
    {
     "name": "stdout",
     "output_type": "stream",
     "text": [
      "X | O | X\n",
      " _______\n",
      "X | O |  \n",
      " _______\n",
      "O | X | O\n",
      "It's your turn, X. Move to which place?\n"
     ]
    },
    {
     "name": "stdin",
     "output_type": "stream",
     "text": [
      " 6\n"
     ]
    },
    {
     "name": "stdout",
     "output_type": "stream",
     "text": [
      "\n",
      "Game Over.\n",
      "\n",
      "It's a Tie!!\n"
     ]
    }
   ],
   "source": [
    "theBoard = {'7': ' ', '8': ' ', '9': ' ',\n",
    "            '4': ' ', '5': ' ', '6': ' ',\n",
    "            '1': ' ', '2': ' ', '3': ' '}\n",
    "\n",
    "def printBoard(board):\n",
    "    print(board['7'] + ' | ' + board['8'] + ' | ' + board['9'])\n",
    "    print(' _______')\n",
    "    print(board['4'] + ' | ' + board['5'] + ' | ' + board['6'])\n",
    "    print(' _______')\n",
    "    print(board['1'] + ' | ' + board['2'] + ' | ' + board['3'])\n",
    "\n",
    "def game():\n",
    "    turn = 'X'\n",
    "    count = 0\n",
    "\n",
    "    for i in range(10):\n",
    "        printBoard(theBoard)\n",
    "        print(\"It's your turn, \" + turn + \". Move to which place?\")\n",
    "\n",
    "        move = input()\n",
    "\n",
    "        if theBoard[move] == ' ':\n",
    "            theBoard[move] = turn\n",
    "            count += 1\n",
    "        else:\n",
    "            print(\"The place is already filled.\\nMove to which place?\")\n",
    "            continue\n",
    "\n",
    "        # Now check if the player has won after 5 moves\n",
    "        if count >= 5:\n",
    "            if theBoard['7'] == theBoard['8'] == theBoard['9'] != ' ':  # Across the top\n",
    "                printBoard(theBoard)\n",
    "                print(\"\\nGame Over.\\n\")\n",
    "                print(\"**** \" + turn + \" won. ****\")\n",
    "                break\n",
    "            elif theBoard['4'] == theBoard['5'] == theBoard['6'] != ' ':  # Across the middle\n",
    "                printBoard(theBoard)\n",
    "                print(\"\\nGame Over.\\n\")\n",
    "                print(\"**** \" + turn + \" won. ****\")\n",
    "                break\n",
    "            elif theBoard['1'] == theBoard['2'] == theBoard['3'] != ' ':  # Across the bottom\n",
    "                printBoard(theBoard)\n",
    "                print(\"\\nGame Over.\\n\")\n",
    "                print(\"**** \" + turn + \" won. ****\")\n",
    "                break\n",
    "            elif theBoard['1'] == theBoard['4'] == theBoard['7'] != ' ':  # Down the left side\n",
    "                printBoard(theBoard)\n",
    "                print(\"\\nGame Over.\\n\")\n",
    "                print(\"**** \" + turn + \" won. ****\")\n",
    "                break\n",
    "            elif theBoard['2'] == theBoard['5'] == theBoard['8'] != ' ':  # Down the middle\n",
    "                printBoard(theBoard)\n",
    "                print(\"\\nGame Over.\\n\")\n",
    "                print(\"**** \" + turn + \" won. ****\")\n",
    "                break\n",
    "            elif theBoard['3'] == theBoard['6'] == theBoard['9'] != ' ':  # Down the right side\n",
    "                printBoard(theBoard)\n",
    "                print(\"\\nGame Over.\\n\")\n",
    "                print(\"**** \" + turn + \" won. ****\")\n",
    "                break\n",
    "            elif theBoard['7'] == theBoard['5'] == theBoard['3'] != ' ':  # Diagonal\n",
    "                printBoard(theBoard)\n",
    "                print(\"\\nGame Over.\\n\")\n",
    "                print(\"**** \" + turn + \" won. ****\")\n",
    "                break\n",
    "            elif theBoard['1'] == theBoard['5'] == theBoard['9'] != ' ':  # Diagonal\n",
    "                printBoard(theBoard)\n",
    "                print(\"\\nGame Over.\\n\")\n",
    "                print(\"**** \" + turn + \" won. ****\")\n",
    "                break\n",
    "\n",
    "        # If all 9 moves are done and nobody has won, declare it a tie\n",
    "        if count == 9:\n",
    "            print(\"\\nGame Over.\\n\")\n",
    "            print(\"It's a Tie!!\")\n",
    "            break\n",
    "\n",
    "        # Switch player\n",
    "        if turn == 'X':\n",
    "            turn = 'O'\n",
    "        else:\n",
    "            turn = 'X'\n",
    "\n",
    "    # Ask for a restart\n",
    "    restart = input(\"Do you want to play again? (Y/N) \")\n",
    "    if restart.lower() == \"y\":\n",
    "        for key in theBoard:\n",
    "            theBoard[key] = \" \"\n",
    "        game()\n",
    "\n",
    "if __name__ == \"__main__\":\n",
    "    game()"
   ]
  },
  {
   "cell_type": "code",
   "execution_count": null,
   "id": "9c6f8d6e-8f78-4f19-9574-e5929dc77ba6",
   "metadata": {},
   "outputs": [],
   "source": []
  }
 ],
 "metadata": {
  "kernelspec": {
   "display_name": "Python 3 (ipykernel)",
   "language": "python",
   "name": "python3"
  },
  "language_info": {
   "codemirror_mode": {
    "name": "ipython",
    "version": 3
   },
   "file_extension": ".py",
   "mimetype": "text/x-python",
   "name": "python",
   "nbconvert_exporter": "python",
   "pygments_lexer": "ipython3",
   "version": "3.11.7"
  }
 },
 "nbformat": 4,
 "nbformat_minor": 5
}
